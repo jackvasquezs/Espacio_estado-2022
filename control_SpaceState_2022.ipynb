{
 "cells": [
  {
   "cell_type": "code",
   "execution_count": 1,
   "metadata": {},
   "outputs": [],
   "source": [
    "import numpy as np\n",
    "import matplotlib.pyplot as plt\n",
    "import math\n",
    "import control as co\n",
    "from control.matlab import *\n",
    "from scipy import signal\n",
    "from IPython.display import Image\n",
    "from IPython.core.display import HTML \n",
    "import ipywidgets as widgets\n",
    "from ipywidgets import interact, interactive, fixed, interact_manual\n"
   ]
  },
  {
   "cell_type": "markdown",
   "metadata": {
    "slideshow": {
     "slide_type": "slide"
    },
    "solution": "hidden"
   },
   "source": [
    "![logo](img/upp2.png)\n",
    "# **Universidad Politécnica de Puebla (JJVS 2022)**\n",
    "# Control automático"
   ]
  },
  {
   "cell_type": "markdown",
   "metadata": {
    "slideshow": {
     "slide_type": "subslide"
    }
   },
   "source": [
    "# Espacio de estados (variables de estado)\n",
    "## Modelado matemático de un motor de CD"
   ]
  },
  {
   "cell_type": "markdown",
   "metadata": {
    "slideshow": {
     "slide_type": "subslide"
    }
   },
   "source": [
    "Un motor de CD se modela considerando las partes eléctrica y mecánica. Como se sabe un motor esta compuesto de un embobinado que presenta una resistencia (R) e inductancia (L). Por otra parte se genera un voltaje contraelectromotriz $e(t)$ que está en función de la velocidad del motor $\\omega$ y el flujo electromagnético $\\phi$. Para modelar la parte mecánica se considera el coeficiente de inercia del eje del motor *J* y el par de carga $T_L$."
   ]
  },
  {
   "cell_type": "markdown",
   "metadata": {
    "slideshow": {
     "slide_type": "subslide"
    }
   },
   "source": [
    "<img src=\"img/motorCDv20.png\" width=\"500px\"> "
   ]
  },
  {
   "cell_type": "markdown",
   "metadata": {
    "slideshow": {
     "slide_type": "subslide"
    }
   },
   "source": [
    "Las ecuaciones que describen el modelo del motor, están determinadas por la **parte eléctrica**:\n",
    "\n",
    "\\begin{eqnarray}\n",
    "\tv(t)&=&Ri(t)+L\\frac{di(t)}{dt}+e(t)\\\\\n",
    "    T_m(t)&=&J\\frac{d\\omega(t)}{dt}+B\\omega(t)+T_L(t)\n",
    "\\end{eqnarray}\n",
    "\n",
    "<img src=\"img/motorCDv20.png\" width=\"500px\"> \n",
    "\n",
    "donde $v(t)$ es el voltaje aplicado al motor, $e(t)$ es el voltaje electromotriz inducido durante rotación del motor, $i(t)$ es la corriente del motor, $B$ el coeficiente de fricción, $R$ y $L$ la resistencia e inductancia del embobinado, respectivamente.\n",
    "\n"
   ]
  },
  {
   "cell_type": "markdown",
   "metadata": {
    "slideshow": {
     "slide_type": "subslide"
    }
   },
   "source": [
    "El voltaje de fuerza electromotriz del motor esta en función de la velocidad del motor $\\omega$ y la constante $K_m$ del motor: \n",
    "\n",
    "\\begin{equation}\n",
    "e(t)=K_m \\omega (t) \n",
    "\\end{equation}\n",
    "\n",
    "Por otra parte el par del motor está  determinado por:   \n",
    "\n",
    "\\begin{equation}\n",
    "T_m(t)=K_m i(t)\n",
    "\\end{equation}\n",
    "\n",
    "Al sustituir las ecuaciones anteriores, se obtiene: \n",
    "\n",
    "\\begin{eqnarray}\n",
    "\tv(t)=Ri(t)+L\\frac{di(t)}{dt}+K_m\\omega(t)\\\\\n",
    "    K_mi(t)=J\\frac{d\\omega}{dt}+B\\omega(t)+T_L(t)\n",
    "\\end{eqnarray}\n",
    "\n",
    "despejando la derivada, \n",
    "\n",
    "\\begin{eqnarray}\n",
    "\\frac{di(t)}{dt}&=&\\frac{v(t)}{L}-\\frac{K_m}{L}\\omega(t)-\\frac{R}{L}i(t)\\\\\n",
    "\\frac{d\\omega(t)}{dt}&=&\\frac{K_m}{J}i(t)-\\frac{B}{J}\\omega(t)-\\frac{T_L(t)}{J}\n",
    "\\end{eqnarray}\n"
   ]
  },
  {
   "cell_type": "markdown",
   "metadata": {
    "slideshow": {
     "slide_type": "slide"
    }
   },
   "source": [
    "## Representación en variables de estado "
   ]
  },
  {
   "cell_type": "markdown",
   "metadata": {
    "slideshow": {
     "slide_type": "subslide"
    }
   },
   "source": [
    "Los sistemas dinámicos lineales, se pueden representar con variables de estado:\n",
    "\n",
    "\\begin{equation}\n",
    "  \\dot x=A \\cdot x+ B \\cdot u \n",
    "\\end{equation} \n",
    "\n",
    "\\begin{equation}\n",
    "  y=C \\cdot x\n",
    "\\end{equation} \n",
    "\n",
    "\n",
    "El punto sobre el vector $x$ representa la derivada de las variables de estado. Sustituyendo las ecuaciones (7) y (8) se tiene, con $T_L=0$:\n",
    "\n",
    "\\begin{equation}\n",
    "\t \\begin{bmatrix}\n",
    "\t  di(t)/{dt} \\\\\n",
    "\t  d\\omega(t)/{dt}\n",
    "\t \\end{bmatrix}\n",
    "\t =\n",
    "\t \\begin{bmatrix}\n",
    "\t -R/L & -K_m/L\\\\\n",
    "\t K_m/J &-B/J\t \n",
    "\t \\end{bmatrix}\n",
    "\t \\begin{bmatrix}\n",
    "\t  i(t) \\\\\n",
    "\t \\omega(t)\n",
    "\t \\end{bmatrix}\n",
    "\t +\n",
    "\t \\begin{bmatrix}\n",
    "\t 1/L\\\\\n",
    "\t 0 \n",
    "\t \\end{bmatrix}\n",
    "\t v(t)\n",
    "\\end{equation}\n",
    "\n",
    "Haciendo un cambio de variable, $x_1=i(t)$ y $x_2=\\omega(t)$, se obtiene:\n",
    "\n",
    "\\begin{equation}\n",
    "\t \\begin{bmatrix}\n",
    "\t  \\dot{x}_1 \\\\\n",
    "\t  \\dot{x}_2 \n",
    "\t \\end{bmatrix}\n",
    "\t =\n",
    "\t \\begin{bmatrix}\n",
    "\t -R/L & -K_m/L\\\\\n",
    "\t K_m/J &-B/J\t \n",
    "\t \\end{bmatrix}\n",
    "\t \\begin{bmatrix}\n",
    "\t  x_1(t) \\\\\n",
    "\t x_2(t)\n",
    "\t \\end{bmatrix}\n",
    "\t +\n",
    "\t \\begin{bmatrix}\n",
    "\t 1/L\\\\\n",
    "\t 0 \n",
    "\t \\end{bmatrix}\n",
    "\t v(t)\n",
    "\\end{equation}\n"
   ]
  },
  {
   "cell_type": "markdown",
   "metadata": {
    "slideshow": {
     "slide_type": "slide"
    }
   },
   "source": [
    "### 3. Simulación con datos experimentales  "
   ]
  },
  {
   "cell_type": "markdown",
   "metadata": {
    "slideshow": {
     "slide_type": "subslide"
    }
   },
   "source": [
    "<img src=\"img/tab_valores.png\" width=\"400px\"> "
   ]
  },
  {
   "cell_type": "markdown",
   "metadata": {
    "slideshow": {
     "slide_type": "subslide"
    }
   },
   "source": [
    "Sustituyendo los valores de la tabla anterior en (8), se obtiene:"
   ]
  },
  {
   "cell_type": "code",
   "execution_count": 2,
   "metadata": {
    "scrolled": true,
    "slideshow": {
     "slide_type": "subslide"
    },
    "solution": "hidden"
   },
   "outputs": [
    {
     "data": {
      "image/png": "[encoded data removed]",
      "text/plain": [
       "<Figure size 432x288 with 1 Axes>"
      ]
     },
     "metadata": {
      "needs_background": "light"
     },
     "output_type": "display_data"
    }
   ],
   "source": [
    "R=1; L=0.5; J=0.01; b=0.1; Km=0.01;\n",
    "\n",
    "A=[[-R/L, -Km/L],[Km/J, -b/J]]\n",
    "B=[[1/L],[0]]\n",
    "C=[0,1]\n",
    "D=0\n",
    "\n",
    "sys2 = signal.StateSpace(A, B, C, D)\n",
    "\n",
    "t2,y2=signal.step(sys2)\n",
    "\n",
    "plt.plot(t2,y2)\n",
    "\n",
    "plt.grid()\n",
    "plt.xlabel('Tiempo (t)')\n",
    "plt.ylabel('Voltaje (V)')\n",
    "\n",
    "plt.show()"
   ]
  },
  {
   "cell_type": "code",
   "execution_count": 4,
   "metadata": {},
   "outputs": [
    {
     "data": {
      "text/latex": [
       "$$\\frac{2}{s^2 + 12 s + 20.02}$$"
      ],
      "text/plain": [
       "TransferFunction(array([2.]), array([ 1.  , 12.  , 20.02]))"
      ]
     },
     "execution_count": 4,
     "metadata": {},
     "output_type": "execute_result"
    }
   ],
   "source": [
    "sys1 = ss2tf(A, B, C, D)\n",
    "sys1"
   ]
  },
  {
   "cell_type": "code",
   "execution_count": 5,
   "metadata": {},
   "outputs": [
    {
     "data": {
      "text/plain": [
       "array([-2.00250078, -9.99749922])"
      ]
     },
     "execution_count": 5,
     "metadata": {},
     "output_type": "execute_result"
    }
   ],
   "source": [
    "sys_ss = ss(A, B, C, D)\n",
    "sys_ss\n",
    "pole(sys_ss)"
   ]
  },
  {
   "cell_type": "markdown",
   "metadata": {
    "slideshow": {
     "slide_type": "slide"
    }
   },
   "source": [
    "## Convertidor CD-CD (buck)"
   ]
  },
  {
   "cell_type": "markdown",
   "metadata": {
    "slideshow": {
     "slide_type": "slide"
    },
    "solution": "hidden"
   },
   "source": [
    "**Ejercicio 1**\n",
    "\n",
    "Obtenga las ecuaciones de estado del siguiente convertidor CD-CD. Convertidor reductor buck. Los parámetros de los elementos son los siguientes: L= 1 mH, C=100 µF, R= 8.2Ω y E=12\n",
    "Volts.\n",
    "<img src=\"img/buck.png\" width=\"400px\"> \n"
   ]
  },
  {
   "cell_type": "markdown",
   "metadata": {
    "slideshow": {
     "slide_type": "subslide"
    },
    "solution": "hidden"
   },
   "source": [
    "<img src=\"img/buck_circ.png\" width=\"400px\"> "
   ]
  },
  {
   "cell_type": "code",
   "execution_count": 6,
   "metadata": {
    "slideshow": {
     "slide_type": "slide"
    },
    "solution": "shown",
    "solution_first": true
   },
   "outputs": [
    {
     "data": {
      "image/png": "[encoded data removed]",
      "text/plain": [
       "<Figure size 432x288 with 1 Axes>"
      ]
     },
     "metadata": {
      "needs_background": "light"
     },
     "output_type": "display_data"
    }
   ],
   "source": [
    "R=8.2; C=100e-6; L=1e-3; E=12; \n",
    "\n",
    "A=[[0, -1/L],[1/C, -1/(R*C)]]\n",
    "B=[[E/L],[0]]\n",
    "C=[0,1]\n",
    "D=0\n",
    "\n",
    "sys3 = signal.StateSpace(A, B, C, D)\n",
    "\n",
    "t3,y3 = signal.step(sys3)\n",
    "\n",
    "plt.plot(t3,y3)\n",
    "\n",
    "plt.grid()\n",
    "plt.xlabel('Tiempo (t)')\n",
    "plt.ylabel('Voltaje (V)')\n",
    "\n",
    "plt.show()\n"
   ]
  },
  {
   "cell_type": "code",
   "execution_count": 3,
   "metadata": {},
   "outputs": [
    {
     "data": {
      "text/plain": [
       "array([-2.00250078, -9.99749922])"
      ]
     },
     "execution_count": 3,
     "metadata": {},
     "output_type": "execute_result"
    }
   ],
   "source": [
    "sys_ss = ss(A, B, C, D)\n",
    "sys_ss\n",
    "pole(sys_ss)"
   ]
  },
  {
   "cell_type": "code",
   "execution_count": 7,
   "metadata": {},
   "outputs": [
    {
     "data": {
      "text/plain": [
       "matrix([[-0.10162597, -0.07093992]])"
      ]
     },
     "execution_count": 7,
     "metadata": {},
     "output_type": "execute_result"
    }
   ],
   "source": [
    "p = [0.0000001, 0]\n",
    "co.place(A, B, p)"
   ]
  },
  {
   "cell_type": "code",
   "execution_count": 8,
   "metadata": {
    "solution": "shown"
   },
   "outputs": [
    {
     "data": {
      "text/plain": [
       "matrix([[ 0.06504065, -0.07459845]])"
      ]
     },
     "execution_count": 8,
     "metadata": {},
     "output_type": "execute_result"
    }
   ],
   "source": [
    "p = [-1000-1000j, -1000+1000j]\n",
    "K=co.place(A, B, p)\n",
    "K"
   ]
  },
  {
   "cell_type": "markdown",
   "metadata": {
    "slideshow": {
     "slide_type": "slide"
    }
   },
   "source": [
    "## Linealización"
   ]
  },
  {
   "cell_type": "markdown",
   "metadata": {
    "slideshow": {
     "slide_type": "subslide"
    }
   },
   "source": [
    "Para linealizar un sistema no lineal alrededor de un punto de equilibrio, se emplean las siguientes matrices:\n",
    "\n",
    "\\begin{align}\n",
    "\\label{eq_linearA}\n",
    "A^*=\n",
    "\\begin{bmatrix}\n",
    "\\partial{f_1}/\\partial{x_1} &\\partial{f_1}/{\\partial{x_2}} &\\partial{f_1}/{x_3}\\\\\n",
    "\\partial{f_2}/\\partial{x_1} &\\partial{f_2}/{\\partial{x_2}} &\\partial{f_2}/{x_3}\\\\\n",
    "\\partial{f_3}/\\partial{x_1} &\\partial{f_3}/{\\partial{x_2}} &\\partial{f_3}/{x_3}\\\\\n",
    "\\end{bmatrix}\n",
    "\\end{align}\n",
    "\n",
    "\\begin{align}\n",
    "\\label{eq_linearB}\n",
    "B^*=\n",
    "\\begin{bmatrix}\n",
    "\\partial{f_1}/\\partial{u}\\\\\n",
    "\\partial{f_2}/\\partial{u}\\\\\n",
    "\\partial{f_3}/\\partial{u}\n",
    "\\end{bmatrix}\n",
    "\\end{align}\n",
    "\n",
    "Donde $f_1$ es la primera ecuación obtenida del modelado del sistema, $f_2$ la segunda ecuación, $f_3$ la tercera ecuación y $u$ la entrada.\n",
    "\n"
   ]
  },
  {
   "cell_type": "markdown",
   "metadata": {
    "slideshow": {
     "slide_type": "subslide"
    }
   },
   "source": [
    "**Ejercicio 2**\n",
    "\n",
    "a) Obtener las ecuaciones que describan comportamiento no lineal del sistema.\n",
    "\n",
    "b) Linealizar el modelo.\n",
    "\n",
    "<img src=\"img/levmagv2.png\" width=\"400px\">"
   ]
  },
  {
   "cell_type": "markdown",
   "metadata": {
    "slideshow": {
     "slide_type": "slide"
    }
   },
   "source": [
    "\n",
    "## Control mediante retroalimentación de estados\n",
    "Considere el sistema definido por las ecuaciones de estado\n",
    "\n",
    "\\begin{equation}\n",
    "  \\dot x=A \\cdot x+ B \\cdot u \n",
    "\\end{equation} \n",
    "\n",
    "\\begin{equation}\n",
    "  y=C \\cdot x\n",
    "\\end{equation} \n",
    "\n",
    "\t\n",
    "Si se aplica la transformada de Laplace a la ecuación anterior se tiene:\n",
    "\\begin{equation}\n",
    "sX(s)=AX(s)+BU(s)\n",
    "\\end{equation}\n",
    "\t\n",
    "Despejando $X(s)$, se tiene:\n",
    "\\begin{equation}\n",
    "sX(s)-AX(s)=BU(s)\n",
    "\\end{equation}"
   ]
  },
  {
   "cell_type": "markdown",
   "metadata": {
    "slideshow": {
     "slide_type": "subslide"
    }
   },
   "source": [
    "Y factorizando:\n",
    "\\begin{equation}\n",
    "[sI-A]X(s)=BU(s)\n",
    "\\end{equation}\n",
    "\t\n",
    "y despejando $X(s)$ se tiene:\n",
    "\\begin{equation}\n",
    "\tX(s)=[sI-A]^{-1}BU(s)\n",
    "\\end{equation}\n",
    "\n",
    "De la ecuación anterior se tiene que la ecuación característica es:\n",
    "\n",
    "\\begin{equation}\n",
    "    |sI-A|=0\n",
    "\\end{equation}\n",
    "\n",
    "donde los eigenvalores del determinante, son los polos del sistema."
   ]
  },
  {
   "cell_type": "markdown",
   "metadata": {
    "slideshow": {
     "slide_type": "slide"
    }
   },
   "source": [
    "Si las variables de estado $x$ se retroalimentan, es decir se multiplican por una constante cada una de ellas y se conectan a la entrada, se obtiene el siguiente diagrama a bloques. Considerando que $r(t)=0$, al hacer la retroalimentación de las variables de estados, ahora se tiene que $u=-Kx$. \n",
    "\n",
    "<img src=\"img/retross2.png\" width=\"700px\"> \n",
    "\n",
    "Por lo que ahora la nueva ecuación de estado es:\n",
    "\\begin{equation}\n",
    "  \\dot x=A \\cdot x - B \\cdot (K \\cdot x)\n",
    "\\end{equation} \n",
    "\n",
    "\\begin{equation}\n",
    "  y=C \\cdot x\n",
    "\\end{equation} \n",
    "\n"
   ]
  },
  {
   "cell_type": "markdown",
   "metadata": {
    "slideshow": {
     "slide_type": "subslide"
    }
   },
   "source": [
    "\t\n",
    "Si se aplica la transformada de Laplace a la ecuación anterior se tiene:\n",
    "\\begin{equation}\n",
    "sX(s)=AX(s)-BKX(s)\n",
    "\\end{equation}\n",
    "\t\n",
    "Despejando $X(s)$, se tiene:\n",
    "\\begin{equation}\n",
    "sX(s)-AX(s)-BKX(s)=0\n",
    "\\end{equation}\n",
    "\n",
    "La ecuación característica del sistema retroalimentado será:\n",
    "\\begin{equation}\n",
    "|sI-A+BK|=0\n",
    "\\end{equation}\n",
    "\n",
    "Para este caso los eigenvalores del sistema dependen de los valores de K. Es decir, la selección de estas constantes permitirán reubicar los polos del sistema. Es importante recordar que el sistema es estable si los polos se situan a la izquierda del plano S."
   ]
  },
  {
   "cell_type": "markdown",
   "metadata": {
    "slideshow": {
     "slide_type": "slide"
    }
   },
   "source": [
    "### Controlabilidad\n",
    "Para aplicar el control por retroalimentación de estados el sistema debe ser controlable, esto se cumple sí y solo sí, la matriz \n",
    "\\begin{equation}\n",
    "{S}=[B\\ \\; AB \\; A^2B \\; \\ldots \\; A^{n-1}B]\n",
    "\\end{equation}\n",
    "es de rango n. \n",
    "\t\n",
    "### Definición: Rango de una matriz\n",
    "Es el orden del mayor determinante distinto de cero que se puede encontrar en el interior de una matriz determinada.\n",
    "\t\n",
    " \n",
    "#### Teoremas de retroalimentación de estados\n",
    "* Una condición necesaria y suficiente para la colocación arbitraria de los polos es que el sistema sea de estado completamente controlable.\n",
    "* Si el par [**A,B**] es completamente controlable, existe una matriz ${K}$ que puede dar un conjunto arbitrario de valores característicos de $({A}-{B}{K})$; las $n$ raíces de la ecuación característica:\n",
    "\n",
    "\\begin{equation}\n",
    "|s{I}-{A}+{B}{K}|\n",
    "\\end{equation}\n",
    "\n"
   ]
  },
  {
   "cell_type": "markdown",
   "metadata": {
    "slideshow": {
     "slide_type": "subslide"
    },
    "solution": "hidden"
   },
   "source": [
    "**Ejercicio 2.1**\n",
    "Determine si los siguientes sistemas son controlables.\n",
    "\\begin{eqnarray}\n",
    "\\begin{bmatrix}\n",
    "\\dot{x1} \\\\ \\dot{x2}\n",
    "\\end{bmatrix}\n",
    "=\n",
    "\\begin{bmatrix}\n",
    "1 & 1 \\\\ 0 & -1\n",
    "\\end{bmatrix}\n",
    "\\begin{bmatrix}\n",
    "x_1 \\\\ x_2 \n",
    "\\end{bmatrix}\n",
    "+\n",
    "\\begin{bmatrix}\n",
    "1  \\\\ 0\n",
    "\\end{bmatrix}\n",
    "u\n",
    "\\end{eqnarray}\n",
    "\t\n",
    "\\begin{eqnarray}\n",
    "\\begin{bmatrix}\n",
    "\\dot{x1} \\\\ \\dot{x2}\n",
    "\\end{bmatrix}\n",
    "=\n",
    "\\begin{bmatrix}\n",
    "1 & 1 \\\\ 2 & -1\n",
    "\\end{bmatrix}\n",
    "\\begin{bmatrix}\n",
    "x_1 \\\\ x_2 \n",
    "\\end{bmatrix}\n",
    "+\n",
    "\\begin{bmatrix}\n",
    "0  \\\\ 1\n",
    "\\end{bmatrix}\n",
    "u\n",
    "\\end{eqnarray}\n"
   ]
  },
  {
   "cell_type": "markdown",
   "metadata": {
    "slideshow": {
     "slide_type": "slide"
    }
   },
   "source": [
    "**Ejercicio 3**\n",
    "\n",
    "Diseñe un control por retroalimentación de estados para el siguiente sistema. \n",
    "<img src=\"img/buck.png\" width=\"400px\"> \n",
    "Se desea que los polos se ubiquen en s=-3000 $\\pm$ j3000. Con E=12V, L=1mH, C=100$\\mu$F, R=12.5$\\Omega$. Emplee el comando:\n",
    "\n",
    "co.place(A, B, p)\n",
    "\n",
    "para obtener la matriz de ganancias K en función de la ubicación de los polos y pueda comparar con los cálculos realizados en su libreta."
   ]
  },
  {
   "cell_type": "markdown",
   "metadata": {
    "slideshow": {
     "slide_type": "slide"
    },
    "solution": "hidden",
    "solution_first": true
   },
   "source": [
    "**Ejercicio 4**\n",
    "\n",
    "Diseñe un controlador por retroalimentación de estados del siguiente sistema \n",
    "\\begin{equation}\n",
    "G(s)=\\frac{2500}{s(s+25)}\n",
    "\\end{equation}\n",
    "para los polos se ubiquen en $s_1=-50$ y $s_2=-50$. \n",
    "\n",
    "\n",
    "**Hint:** \n",
    "La función de transferencia se puede representar como $G(S)=\\frac{Y(s)}{R(s)}$. "
   ]
  },
  {
   "cell_type": "code",
   "execution_count": 3,
   "metadata": {},
   "outputs": [],
   "source": [
    "R=0.5; L = 10e-3; m = 20e-3; g = 9.8; x01 = 0.03;x03 = math.sqrt(m*g*x01);\n",
    "A=[[0,1,0],[x03**2/(m*x01**2),0,-2*x03/(m*x01)],[0,0,-R/L]]\n",
    "B=[[0],[0],[1/L]]\n",
    "C=[1,0,0]\n",
    "D=0"
   ]
  },
  {
   "cell_type": "code",
   "execution_count": 4,
   "metadata": {},
   "outputs": [
    {
     "data": {
      "text/plain": [
       "[[0, 1, 0], [326.6666666666667, 0, -255.60386016907756], [0, 0, -50.0]]"
      ]
     },
     "execution_count": 4,
     "metadata": {},
     "output_type": "execute_result"
    }
   ],
   "source": [
    "A"
   ]
  },
  {
   "cell_type": "code",
   "execution_count": 5,
   "metadata": {},
   "outputs": [
    {
     "data": {
      "text/plain": [
       "[[0], [0], [100.0]]"
      ]
     },
     "execution_count": 5,
     "metadata": {},
     "output_type": "execute_result"
    }
   ],
   "source": [
    "B"
   ]
  },
  {
   "cell_type": "code",
   "execution_count": 10,
   "metadata": {},
   "outputs": [
    {
     "data": {
      "image/png": "[encoded data removed]",
      "text/plain": [
       "<Figure size 432x288 with 1 Axes>"
      ]
     },
     "metadata": {
      "needs_background": "light"
     },
     "output_type": "display_data"
    }
   ],
   "source": [
    "sys4 = signal.StateSpace(A, B, C, D)\n",
    "t4,y4=signal.step(sys4)\n",
    "plt.plot(t4,y4)\n",
    "plt.grid()\n",
    "plt.xlabel('Tiempo (t)')\n",
    "plt.ylabel('Voltaje (V)')\n",
    "plt.show()"
   ]
  },
  {
   "cell_type": "code",
   "execution_count": 11,
   "metadata": {},
   "outputs": [
    {
     "data": {
      "text/plain": [
       "array([ 18.07392228, -18.07392228, -50.        ])"
      ]
     },
     "execution_count": 11,
     "metadata": {},
     "output_type": "execute_result"
    }
   ],
   "source": [
    "sys_ss = ss(A, B, C, D)\n",
    "sys_ss\n",
    "pole(sys_ss)"
   ]
  },
  {
   "cell_type": "markdown",
   "metadata": {
    "slideshow": {
     "slide_type": "slide"
    }
   },
   "source": [
    "**Ejercicio 5**\n",
    "\n",
    "Realizar un control por retroalimentacion de estados para que el sistema sea estable, seleccione los polos en $s_1=-100$, $s_2=-100-100j$ y $s_3=-100+100j$. Obtenga sus conclusiones y muestre la simulación.\n",
    "\\begin{eqnarray}\n",
    "A&=&\n",
    "\\begin{bmatrix}\n",
    "0 & 1 & 0\\\\\n",
    "x_{03}^2/mx_{01}^2 & 0 & -2x_{03}/mx_{01}\\\\\n",
    "0 & 0 & -R/L\n",
    "\\end{bmatrix}\\\\\n",
    "B&=&\\begin{bmatrix}\n",
    "0\\\\\n",
    "0\\\\\n",
    "1/L\\\\\n",
    "\\end{bmatrix}\\\\\n",
    "C&=& \\begin{bmatrix}\n",
    "1~ & ~0 & 0\\\\\n",
    "\\end{bmatrix}\n",
    "\\end{eqnarray}\n",
    "Con $x_{03}=\\sqrt{mgx_{01}}$, R = 0.5$\\Omega$, L = 10mH; m = 20mg; g = 9.8m/$s^2$; $x_{01}$ = 0.03 m. \n",
    "\n"
   ]
  },
  {
   "cell_type": "code",
   "execution_count": 12,
   "metadata": {},
   "outputs": [
    {
     "data": {
      "text/plain": [
       "matrix([[-82.08013755,  -1.57770179,   2.5       ]])"
      ]
     },
     "execution_count": 12,
     "metadata": {},
     "output_type": "execute_result"
    }
   ],
   "source": [
    "p = [-100-100j, -100+100j,-100]\n",
    "K=co.place(A, B, p)\n",
    "K"
   ]
  },
  {
   "cell_type": "markdown",
   "metadata": {
    "slideshow": {
     "slide_type": "fragment"
    },
    "solution": "hidden"
   },
   "source": [
    "A continuación convierta la ecuación al dominio del tiempo y obtenga el diagrama. \n",
    "<img src=\"img/diagrama_ssv2.png\" width=\"600px\">\n",
    "De este diagrama pueden obtenerse las ecuaciones de estado. Las variables de estado se ubican en las salidas de los integradores, como puede observarse. Las ecuaciones de estado son las siguientes.\n",
    "\n",
    "\n",
    "\\begin{eqnarray}\n",
    "\\begin{bmatrix}\n",
    "\\dot{x1} \\\\ \\dot{x2}\n",
    "\\end{bmatrix}\n",
    "=\n",
    "\\begin{bmatrix}\n",
    "0 & 1 \\\\ 0 & -25\n",
    "\\end{bmatrix}\n",
    "\\begin{bmatrix}\n",
    "x_1 \\\\ x_2 \n",
    "\\end{bmatrix}\n",
    "+\n",
    "\\begin{bmatrix}\n",
    "0  \\\\ 2500\n",
    "\\end{bmatrix}\n",
    "r(t)\n",
    "\\end{eqnarray}"
   ]
  },
  {
   "cell_type": "code",
   "execution_count": 13,
   "metadata": {
    "solution": "hidden"
   },
   "outputs": [
    {
     "data": {
      "text/plain": [
       "matrix([[0.999998  , 0.02999996]])"
      ]
     },
     "execution_count": 13,
     "metadata": {},
     "output_type": "execute_result"
    }
   ],
   "source": [
    "A = [[0, 1], [0, -25]]\n",
    "B = [[0], [2500]]\n",
    "p = [-50, -49.9999]\n",
    "co.place(A, B, p)"
   ]
  },
  {
   "cell_type": "markdown",
   "metadata": {
    "slideshow": {
     "slide_type": "slide"
    }
   },
   "source": [
    "## Retroalimentación de estados con control integral\n",
    "Para eliminar el error en estado estable se agrega un integrador y por otra parte se agrega la señal de referencia ($r(t) \\neq 0$). De tal manera que aumentan en uno las variables de estado.\n",
    "\n",
    "<img src=\"img/retroint.png\" width=\"500px\"> \n",
    "    \n",
    "\\begin{eqnarray}\n",
    "\\begin{bmatrix}\n",
    "\\dot{ {x}(t)}\\\\\n",
    "\\dot{x_{n+1}}\\\\\n",
    "\\end{bmatrix}\n",
    "=\\begin{bmatrix}\n",
    " {A} & 0\\\\\n",
    "- {C} & 0\\\\\n",
    "\\end{bmatrix}\n",
    "\\begin{bmatrix}\n",
    " {x}(t)\\\\\n",
    "x_{n+1}\\\\\n",
    "\\end{bmatrix}\n",
    "+\n",
    "\\begin{bmatrix}\n",
    " {B}\\\\\n",
    " {-D}\\\\\n",
    "\\end{bmatrix}\n",
    "u(t)\n",
    "+\n",
    "\\begin{bmatrix}\n",
    " {0}\\\\\n",
    "1\\\\\n",
    "\\end{bmatrix}\n",
    "r(t)\n",
    "\\end{eqnarray}\n",
    "\n"
   ]
  },
  {
   "cell_type": "markdown",
   "metadata": {
    "slideshow": {
     "slide_type": "subslide"
    }
   },
   "source": [
    "ya que $u=-Kx-K_{n+1}x_{n+1}$"
   ]
  },
  {
   "cell_type": "markdown",
   "metadata": {
    "slideshow": {
     "slide_type": "subslide"
    }
   },
   "source": [
    "\\begin{equation}\n",
    "\t\\begin{bmatrix}\n",
    "\t\t\\dot {x(t)}\\\\\n",
    "\t\t\\dot{x_{n+1}}\\\\\n",
    "\t\\end{bmatrix}\n",
    "\t=\n",
    "\t\\begin{bmatrix}\n",
    "\t\t A & 0\\\\\n",
    "\t\t- C & 0\\\\\n",
    "\t\\end{bmatrix}\n",
    "\t\\begin{bmatrix}\n",
    "\t\t x(t)\\\\\n",
    "\t\tx_{n+1}\\\\\n",
    "\t\\end{bmatrix}\n",
    "\t-\n",
    "\t\\begin{bmatrix}\n",
    "\t\t B\\\\\n",
    "\t\t -D\\\\\n",
    "\t\\end{bmatrix}\n",
    "\t\\begin{bmatrix}\n",
    "\t\t K & k_{n+1}\\\\\n",
    "\t\\end{bmatrix}\n",
    "\t\\begin{bmatrix}\n",
    "\t\t x(t)\\\\\n",
    "\t\tx_{n+1}\\\\\n",
    "\t\\end{bmatrix}\n",
    "\t+\n",
    "\t\\begin{bmatrix}\n",
    "\t\t 0\\\\\n",
    "\t\t1\\\\\n",
    "\t\\end{bmatrix}\n",
    "\tr(t)\n",
    "\\end{equation}\n",
    "\t\n"
   ]
  },
  {
   "cell_type": "markdown",
   "metadata": {
    "slideshow": {
     "slide_type": "slide"
    }
   },
   "source": [
    "La ecuación de estado puede expresarse como:"
   ]
  },
  {
   "cell_type": "markdown",
   "metadata": {
    "slideshow": {
     "slide_type": "subslide"
    }
   },
   "source": [
    "\n",
    "\\begin{equation}\n",
    "\\dot{\\hat{ {x}}}=\\hat{ {A}}\\hat{ {x}}-\\hat{ {B}} \\hat{ {K}} \\hat{ {x}}+\n",
    "\\begin{bmatrix}\n",
    " {0}\\\\\n",
    "1\\\\\n",
    "\\end{bmatrix}\n",
    "r(t)\n",
    "\\end{equation}\n",
    " \n"
   ]
  },
  {
   "cell_type": "markdown",
   "metadata": {
    "slideshow": {
     "slide_type": "subslide"
    }
   },
   "source": [
    "Y la ecuación característica para el sistema es:\n",
    "\n",
    "\\begin{equation}\n",
    "|s{I}-\\hat{A}+\\hat{B}\\hat{K}|=0\n",
    "\\end{equation}\n",
    "\n",
    "donde:"
   ]
  },
  {
   "cell_type": "markdown",
   "metadata": {
    "slideshow": {
     "slide_type": "subslide"
    }
   },
   "source": [
    "\n",
    "\\begin{eqnarray}\n",
    "\\hat{ {A}}=\n",
    "\\begin{bmatrix}\n",
    " {A} & 0\\\\\n",
    "- {C} & 0\\\\\n",
    "\\end{bmatrix}, \n",
    "\\hat{ {B}}=\\begin{bmatrix}\n",
    " {B}\\\\\n",
    " {-D}\\\\\n",
    "\\end{bmatrix},\n",
    "\\hat{ {K}}=\n",
    "\\begin{matrix}\n",
    "[k_1 & k_2 & k_3 \\:  ... \\: & k_{n+1}]\n",
    "\\end{matrix}\n",
    "\\end{eqnarray}\n",
    " \n"
   ]
  },
  {
   "cell_type": "markdown",
   "metadata": {
    "slideshow": {
     "slide_type": "slide"
    }
   },
   "source": [
    "**Ejercicio 6**\n",
    "\n",
    "Emplee la retroalimentación de estados con el control integral para diseñar un controlador para que los polos se ubiquen en -200, -30+j30, -30-j30 de la siguiente función : \n",
    "\t\t\n",
    "\\begin{eqnarray}\n",
    "A=\n",
    "\\begin{bmatrix}\n",
    "0 & 1 \\\\\n",
    "0 & 25 \\\\ \n",
    "\\end{bmatrix} \n",
    "B=\n",
    "\\begin{bmatrix}\n",
    "0  \\\\\n",
    "1  \\\\\n",
    "\\end{bmatrix} \\:\n",
    "C=\n",
    "\\begin{bmatrix}\n",
    "2500 & 0 \n",
    "\\end{bmatrix} \n",
    "\\end{eqnarray}\n"
   ]
  },
  {
   "cell_type": "markdown",
   "metadata": {
    "slideshow": {
     "slide_type": "slide"
    }
   },
   "source": [
    "**Ejercicio 7**\n",
    "\n",
    "Diseñe un control por retroalimentación de estados con integrador para que el sistema de levitación magnética para que los polos se ubique en:  -100, -10, -150+j150, -150-j150.\n",
    "\n",
    "**Ejercicio 8**\t\t\t\t\n",
    "\n",
    "Realice el controlador para el reductor (buck) para que los polos se ubiquen en -3000, -3000+j3000 y -3000-j3000. En PSIM realizar el circuito y el controlador."
   ]
  },
  {
   "cell_type": "code",
   "execution_count": 27,
   "metadata": {},
   "outputs": [],
   "source": [
    "R=0.5; L = 10e-3; m = 20e-3; g = 9.8; x01 = 0.03;x03 = math.sqrt(m*g*x01);\n",
    "Ag=[[0,1,0,0],[x03**2/(m*x01**2),0,-2*x03/(m*x01),0],[0,0,-R/L,0],[-1,0,0,0]]\n",
    "Bg=[[0],[0],[1/L],[0]]\n",
    "Cg=[1,0,0,0]\n",
    "Da=0"
   ]
  },
  {
   "cell_type": "code",
   "execution_count": 28,
   "metadata": {},
   "outputs": [
    {
     "data": {
      "text/plain": [
       "[[0, 1, 0, 0],\n",
       " [326.6666666666667, 0, -255.60386016907756, 0],\n",
       " [0, 0, -50.0, 0],\n",
       " [-1, 0, 0, 0]]"
      ]
     },
     "execution_count": 28,
     "metadata": {},
     "output_type": "execute_result"
    }
   ],
   "source": [
    "Ag"
   ]
  },
  {
   "cell_type": "code",
   "execution_count": 29,
   "metadata": {},
   "outputs": [
    {
     "data": {
      "text/plain": [
       "[[0], [0], [100.0], [0]]"
      ]
     },
     "execution_count": 29,
     "metadata": {},
     "output_type": "execute_result"
    }
   ],
   "source": [
    "Bg"
   ]
  },
  {
   "cell_type": "code",
   "execution_count": 30,
   "metadata": {},
   "outputs": [
    {
     "data": {
      "text/plain": [
       "matrix([[-1.60965227e+02, -2.16454738e+00,  3.00000000e+00,\n",
       "          3.91230398e+03]])"
      ]
     },
     "execution_count": 30,
     "metadata": {},
     "output_type": "execute_result"
    }
   ],
   "source": [
    "p = [-100-100j, -100+100j,-100,-50]\n",
    "K=co.place(Ag, Bg, p)\n",
    "K"
   ]
  },
  {
   "cell_type": "markdown",
   "metadata": {
    "slideshow": {
     "slide_type": "slide"
    }
   },
   "source": [
    "## Observabilidad\n",
    "Un sistema es completamente observable si cada variable de estado del sistema afecta alguna de las salidas.\n",
    "\t\n",
    "#### Teorema\n",
    "Para que el sistema descrito por las ecuaciones: \n",
    "\n",
    "\\begin{eqnarray}\n",
    "\\dot x = A \\cdot  x + B \\cdot u \\\\\n",
    "y={C} \\cdot x + D \\cdot u\n",
    "\\end{eqnarray}\n",
    "\n",
    "sea completamente observable es necesario y suficiente que la matriz:\n",
    "\\begin{eqnarray}\n",
    "V=\n",
    "\\begin{bmatrix}\n",
    "C & CA & CA^2 & \\: ... \\:CA^{n-1}\n",
    "\\end{bmatrix}\n",
    "^T\n",
    "\\end{eqnarray}\n",
    "\n",
    "sea de rango **n**."
   ]
  },
  {
   "cell_type": "markdown",
   "metadata": {
    "slideshow": {
     "slide_type": "subslide"
    }
   },
   "source": [
    "**Ejercicio 9**\n",
    "\n",
    "Determine si los siguientes sistemas son observables.\n",
    "\\begin{eqnarray}\n",
    "A=\n",
    "\\begin{bmatrix}\n",
    "-2 & 0 \\\\\n",
    "0 & -1 \\\\ \n",
    "\\end{bmatrix} \n",
    "B=\n",
    "\\begin{bmatrix}\n",
    "3  \\\\\n",
    "1  \\\\\n",
    "\\end{bmatrix} \\:\n",
    "C=\n",
    "\\begin{bmatrix}\n",
    "1 & 0 \n",
    "\\end{bmatrix} \n",
    "\\end{eqnarray}\n",
    "\t\n",
    "\\begin{eqnarray}\n",
    "A=\n",
    "\t\\begin{bmatrix}\n",
    "\t0 & 1 \\\\\n",
    "\t-2 & -3 \\\\ \n",
    "\t\\end{bmatrix} \n",
    "\tB=\n",
    "\t\\begin{bmatrix}\n",
    "\t1  \\\\\n",
    "\t1  \\\\\n",
    "\t\\end{bmatrix} \\:\n",
    "\tC=\n",
    "\t\\begin{bmatrix}\n",
    "\t1 & 2 \n",
    "\t\\end{bmatrix} \n",
    "\t\\end{eqnarray}\n",
    "\t\n",
    "Para el sistema de levitación magnética calcule la observabilidad, si la salida es la posición, la velocidad o la corriente.\n",
    " "
   ]
  },
  {
   "cell_type": "code",
   "execution_count": 14,
   "metadata": {},
   "outputs": [
    {
     "data": {
      "text/plain": [
       "matrix([[ 1.,  0.],\n",
       "        [-2.,  0.]])"
      ]
     },
     "execution_count": 14,
     "metadata": {},
     "output_type": "execute_result"
    }
   ],
   "source": [
    "A = [[-2, 0], [0, -1]]\n",
    "C = [1, 0]\n",
    "O1=co.obsv(A,C)\n",
    "O1"
   ]
  },
  {
   "cell_type": "code",
   "execution_count": 15,
   "metadata": {},
   "outputs": [
    {
     "data": {
      "text/plain": [
       "7.0"
      ]
     },
     "execution_count": 15,
     "metadata": {},
     "output_type": "execute_result"
    }
   ],
   "source": [
    "A = [[0, 1], [-2, -3]]\n",
    "C = [[1, 2]]\n",
    "O2=co.obsv(A,C)\n",
    "np.ptp(O2)"
   ]
  },
  {
   "cell_type": "markdown",
   "metadata": {
    "slideshow": {
     "slide_type": "slide"
    }
   },
   "source": [
    "## Observador de orden completo\n",
    "Para un sistema representado con variables de estado, se puede obtener un observador de orden completo de la siguiente forma:\n",
    "\n",
    "\\begin{equation}\n",
    "  \\dot {\\tilde x} = A \\tilde x + B u + k_e ( y - C \\tilde x)\n",
    "\\end{equation}\n",
    "\n",
    "<img src=\"img/obscom.png\" width=\"400px\"> \n",
    "\n",
    "El problema de diseñar un observador de orden completo está en determinar la matriz de ganancias del observador ${K}_e$ de forma que la dinámica del error sea asintóticamente estable con una velocidad de respuesta suficiente. \\\\\n",
    "\t\n",
    "Restando el sistema original del observador se tiene:\n",
    "\\begin{equation}\n",
    "\\dot x - \\dot {\\tilde x} = {A}({x} - {\\tilde {x}}) -{K}_e  C (x - {\\tilde x})\n",
    "\\end{equation}\n",
    "\t\n",
    "Los valores propios deseados de la ecuación característica se deben escoger de forma que el observador de estados responda de 2 a 5 veces más rápido que el sistema en lazo cerrado. La ecuación característica del observador es:\n",
    "\\begin{equation}\n",
    "|s{I}-{A}+{K}_e {C}|=0\n",
    "\\end{equation}\n",
    " \n",
    "\n",
    "\n"
   ]
  },
  {
   "cell_type": "markdown",
   "metadata": {
    "slideshow": {
     "slide_type": "subslide"
    },
    "solution": "hidden",
    "solution_first": true
   },
   "source": [
    "**Ejercicio 10**\n",
    "Considere el sistema representado mediante variables de estado, con:\n",
    "\\begin{eqnarray}\n",
    "A=\n",
    "\\begin{bmatrix}\n",
    "0 & 20.6 \\\\\n",
    "1 & 0 \\\\ \n",
    "\\end{bmatrix} \n",
    "\\:\n",
    "B=\n",
    "\\begin{bmatrix}\n",
    "0 \\\\\n",
    "1  \\\\\n",
    "\\end{bmatrix} \\:\n",
    "C=\n",
    "\\begin{bmatrix}\n",
    "0 & 1 \n",
    "\\end{bmatrix} \n",
    "\\end{eqnarray}\n",
    "\t\n",
    "Determine la matriz de ganancias ${K}_e$ tal que los valores propios deseados de la matriz del observador sean $\\gamma _1 =-5$ y $\\gamma _2 =-5$. Considere que $u=-K \\tilde x$.\n"
   ]
  },
  {
   "cell_type": "markdown",
   "metadata": {
    "slideshow": {
     "slide_type": "subslide"
    }
   },
   "source": [
    "**Ejercicio 11**\n",
    "\n",
    "Considere el diseño de un regulador para el sistema representado mediante variables de estado, con:\n",
    "\\begin{equation}\n",
    "A=\n",
    "\\begin{bmatrix}\n",
    "0 & 1 \\\\\n",
    "20.6 & 0 \\\\ \n",
    "\\end{bmatrix} \n",
    "\\:\n",
    "B=\n",
    "\\begin{bmatrix}\n",
    "0 \\\\\n",
    "1  \\\\\n",
    "\\end{bmatrix} \\:\n",
    "C=\n",
    "\\begin{bmatrix}\n",
    "1 & 0 \n",
    "\\end{bmatrix} \n",
    "\\end{equation}\n",
    "\n",
    "Los polos en lazo cerrado del sistema se desean en $s_{12}=-1.8 \\pm j1.8$. Suponga un control por realimentación del estado observado.\\\\\n",
    "\n",
    "\\begin{equation}\n",
    "    u=-K\\tilde{x}\n",
    "\\end{equation}\n",
    "\n",
    "con polos del observador en $s_1=-8$ y $s_2=-8$. Encuentre $K$ y $K_e$.\n"
   ]
  },
  {
   "cell_type": "code",
   "execution_count": 16,
   "metadata": {
    "slideshow": {
     "slide_type": "notes"
    },
    "solution": "hidden"
   },
   "outputs": [
    {
     "data": {
      "text/plain": [
       "matrix([[2.21116505, 9.99      ]])"
      ]
     },
     "execution_count": 16,
     "metadata": {},
     "output_type": "execute_result"
    }
   ],
   "source": [
    "A = [[0, 20.6], [1, 0]]\n",
    "B = [[0], [1]]\n",
    "C = [0, 1]\n",
    "p = [-5, -4.99]\n",
    "co.place(A, B, p)"
   ]
  },
  {
   "cell_type": "markdown",
   "metadata": {
    "slideshow": {
     "slide_type": "slide"
    }
   },
   "source": [
    "## Observador de orden mínimo\n",
    "Algunas de las variables se pueden estimar a partir de una señal que puede ser medida; en otras palabras a partir de la señal medida se observan las otras señales. Considerando el caso en el que solo una variable de estado es medible, para el sistema:\n",
    "\n",
    "\\begin{equation}\n",
    "    \\dot{x} = A \\cdot  x + B \\cdot u \\\\\n",
    "    y= C \\cdot x + D \\cdot u\n",
    "\\end{equation} \n",
    " \n",
    "La ecuación de estado puede reescribirse como:\n",
    "\n",
    "\\begin{equation}\n",
    "    \\dot{x}=\n",
    "    \\begin{bmatrix}\n",
    "    \\dot{x_a} \\\\\n",
    "    \\dot{{x}_b}\n",
    "    \\end{bmatrix}\n",
    "    \\begin{bmatrix}\n",
    "    A_{aa} & {A}_{ab} \\\\\n",
    "    {A}_{ba} & {A}_{bb}\n",
    "    \\end{bmatrix}\n",
    "    \\begin{bmatrix}\n",
    "    x_a \\\\\n",
    "    {x}_b\n",
    "    \\end{bmatrix}\n",
    "    +\n",
    "    \\begin{bmatrix}\n",
    "    B_a\\\\\n",
    "    {B}_b\n",
    "    \\end{bmatrix}u\n",
    "\\end{equation}\n",
    "\t\n",
    "\\begin{eqnarray}\n",
    "    y=\n",
    "    \\begin{bmatrix}\n",
    "    1&0\n",
    "    \\end{bmatrix}\n",
    "    \\begin{bmatrix}\n",
    "    x_a \\\\\n",
    "    {x}_b\n",
    "    \\end{bmatrix}\n",
    "\\end{eqnarray}\n",
    "\n",
    "de donde:\n",
    "    \n",
    "\\begin{eqnarray}\n",
    "\\dot{x_a}=A_{aa}x_a+{A}_{ab}{x}_b+B_au\\\\\n",
    "\\dot{{x}_b}={A}_{ba}x_a+{A}_{bb}{x}_b+{B}_bu\n",
    "\\end{eqnarray}\n",
    " \n",
    "\n",
    " \n",
    "\\begin{eqnarray}\n",
    "\\dot{x_a}=A_{aa}x_a+{A}_{ab}{x}_b+B_au\\\\\n",
    "\\dot{{x}_b}={A}_{ba}x_a+{A}_{bb}{x}_b+{B}_bu\n",
    "\\end{eqnarray}\n",
    "\n",
    "Con\n",
    "\\begin{equation}\n",
    "y^*=\\dot{x_a}-A_{aa}x_a-B_au\\\\ \n",
    "{C}^*={A}_{ab}\\\\ \n",
    "{B}^*u^*= {A}_{ba}x_a+{B}_bu\n",
    "\\end{equation}\n",
    "Se tiene\n",
    "\\begin{eqnarray}\n",
    "\\dot{{x}_b}&=&{A}_{bb}{x}_b+{B}^*u^*\\\\\n",
    "y^*&=&{C}^*{x}_b \n",
    "\\end{eqnarray}\n",
    " \n",
    "\n",
    "Sustituyendo con los cambios de variables realizados, se tiene: \n",
    "\\begin{eqnarray}\n",
    "\\dot{{x}_b}&=&{A}_{bb}{x}_b+{A}_{ba}x_a+{B}_bu\\\\\n",
    "\\dot{{x}_b}&=&{A}_{bb}{x}_b+{B}^*u^*\\\\\n",
    "\\dot{x_a}-A_{aa}x_a-B_au&=&{A}_{ab}{x}_b\\\\% y^*&=&{C}^*{x}_b \\\\\n",
    "\\end{eqnarray}\n",
    "\t\n",
    "Ahora considere la ecuación del observador de orden completo\n",
    "\\begin{equation}\n",
    "\\dot {\\tilde x} = {A} \\tilde x + {B}u+{K}_e(y- {C} \\tilde x) = ({A}-{K}_e C )\\tilde x + {B}u+ {K}_e y\n",
    "\\end{equation}\n",
    "\n",
    "Haciendo cambios de variables \n",
    "$\\tilde x =\\tilde{{x}_b}$, ${A}={A}_{bb}$, ${C}={A}_{ab}$, ${B}{u}= {A}_{ba}x_a+{B}_bu$ y $y=\\dot{x_a}-A_{aa}x_a-B_au$.\n",
    " \n",
    "\n",
    "Después de sustituir se obtiene la ecuación:\n",
    "\n",
    "\\begin{equation}\n",
    "\\tilde { \\dot x_b }=( A_{bb}-{K}_e A_{ab})\\tilde {{x}_b}+ {A}_{ba}x_a+{B}_bu+{K}_e(\\dot{x_a}-A_{aa}x_a-B_au)\n",
    "\\end{equation}\n",
    "\t\n",
    "Al estimar $\\tilde{ x_b}$ se requiere la derivada de $x_a$, pero si ésta señal es ruidosa, la derivada amplificaría el ruido. Para evitar la derivada se hace el cambio de variable $\\tilde{\\dot x_b}=\\dot Z +{K}_e \\dot{x_a}$ y se obtiene:\n",
    "\t\n",
    "\\begin{equation}\n",
    "\\dot{Z}=(A_{bb}-{K}_e A_{ab})\\tilde {x_b}+ A_{ba} x_a + B_bu- K_e(A_{aa}x_a+B_au)\n",
    "\\end{equation}\n",
    "\t\n",
    "Agrupando términos se tiene:\n",
    "\n",
    "\\begin{equation}\n",
    "\\dot{Z}=({A}_{bb}-{K}_e{A}_{ab}){Z}+ [({A}_{bb}- {K}_e{A}_{ab}){K}_e +{A}_{ba} -{K}_e Aaa]y  + ({B}_b-{K}_e{B}_a)u \n",
    "\\end{equation}"
   ]
  },
  {
   "cell_type": "markdown",
   "metadata": {
    "slideshow": {
     "slide_type": "subslide"
    }
   },
   "source": [
    "Para obtener las variables observadas, es decir $\\mathbf{\\tilde{x}}_b$, se integra $\\mathbf{Z}$ y se emplea la ecuación \n",
    "\n",
    "\\begin{equation}\n",
    "\\tilde{x_b}=Z+K_e{x_a}\n",
    "\\end{equation}\n",
    "\n"
   ]
  },
  {
   "cell_type": "markdown",
   "metadata": {
    "slideshow": {
     "slide_type": "subslide"
    }
   },
   "source": [
    "\n",
    "**Ejercicio 12**\n",
    "\n",
    "Para un motor de CD, con las siguientes parámetros :\n",
    "$K_m=0.06$, $J_m=80.45e-6$, $L=0.003$, $R=3.13$, $B_m=20e-6$.\n",
    "\n",
    "*  Obtenga su representación en variables de estado.\n",
    "*  Diseñe un observador de orden mínimo para observar el par aplicado.\n",
    "*  Seleccione los valores de la ubicación de los polos del observador y del motor (los valores empleados deben ser únicos, es decir no pueden repetir entre equipos).\n"
   ]
  }
 ],
 "metadata": {
  "celltoolbar": "Slideshow",
  "kernelspec": {
   "display_name": "Python 3",
   "language": "python",
   "name": "python3"
  },
  "language_info": {
   "codemirror_mode": {
    "name": "ipython",
    "version": 3
   },
   "file_extension": ".py",
   "mimetype": "text/x-python",
   "name": "python",
   "nbconvert_exporter": "python",
   "pygments_lexer": "ipython3",
   "version": "3.7.6"
  },
  "latex_envs": {
   "LaTeX_envs_menu_present": true,
   "autoclose": false,
   "autocomplete": true,
   "bibliofile": "biblio.bib",
   "cite_by": "apalike",
   "current_citInitial": 1,
   "eqLabelWithNumbers": true,
   "eqNumInitial": 1,
   "hotkeys": {
    "equation": "Ctrl-E",
    "itemize": "Ctrl-I"
   },
   "labels_anchors": false,
   "latex_user_defs": false,
   "report_style_numbering": false,
   "user_envs_cfg": false
  }
 },
 "nbformat": 4,
 "nbformat_minor": 4
}
